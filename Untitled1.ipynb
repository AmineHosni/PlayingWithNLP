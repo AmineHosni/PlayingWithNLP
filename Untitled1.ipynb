{
 "cells": [
  {
   "cell_type": "code",
   "execution_count": null,
   "metadata": {},
   "outputs": [],
   "source": [
    "import spacy\n",
    "nlp = spacy.load('en_core_web_sm')"
   ]
  },
  {
   "cell_type": "code",
   "execution_count": 1,
   "metadata": {},
   "outputs": [
    {
     "name": "stdout",
     "output_type": "stream",
     "text": [
      "Apple cherche à acheter une startup anglaise pour 1 milliard de dollars\n",
      "Apple NOUN amod\n",
      "cherche NOUN ROOT\n",
      "à ADP mark\n",
      "acheter VERB acl\n",
      "une DET det\n",
      "startup NOUN obj\n",
      "anglaise NOUN amod\n",
      "pour ADP case\n",
      "1 NUM nummod\n",
      "milliard NOUN obl\n",
      "de ADP case\n",
      "dollars NOUN nmod\n"
     ]
    }
   ],
   "source": [
    "import spacy\n",
    "from spacy.lang.fr.examples import sentences \n",
    "\n",
    "nlp = spacy.load('fr_core_news_sm')\n",
    "doc = nlp(sentences[0])\n",
    "print(doc.text)\n",
    "for token in doc:\n",
    "    print(token.text, token.pos_, token.dep_)"
   ]
  },
  {
   "cell_type": "code",
   "execution_count": 2,
   "metadata": {
    "scrolled": true
   },
   "outputs": [
    {
     "name": "stdout",
     "output_type": "stream",
     "text": [
      "Bonjour PROPN nsubj\n",
      "Amine PROPN nmod\n",
      "Hosni PROPN flat:name\n",
      ", PUNCT punct\n",
      "veuillez AUX aux\n",
      "nous PRON iobj\n",
      "envoyer VERB ROOT\n",
      "votre DET nmod:poss\n",
      "cv NOUN obj\n",
      ". PUNCT punct\n",
      "Veuillez AUX aux\n",
      "agréer ADJ ROOT\n",
      "Monsieur NOUN obj\n",
      ", PUNCT punct\n",
      "Madame NOUN conj\n",
      ", PUNCT punct\n",
      "Sebastien PROPN obl\n",
      "Maurice PROPN flat:name\n",
      "mes DET nmod:poss\n",
      "plus ADV advmod\n",
      "sincères ADJ conj\n",
      "salutations ADJ nmod\n",
      ". PUNCT punct\n",
      "joignable ADJ ROOT\n",
      "sur ADP case\n",
      "Firma PROPN obl\n",
      "ABC PROPN flat:name\n",
      "Kundendienst PROPN dep\n",
      "Hauptstr PROPN flat:name\n",
      ". PUNCT punct\n",
      "5 NUM nummod\n",
      "01234 NUM ROOT\n",
      "Musterstadt NOUN flat:name\n"
     ]
    }
   ],
   "source": [
    "s = nlp(\"Bonjour Amine Hosni, veuillez nous envoyer votre cv. Veuillez agréer Monsieur, Madame, Sebastien Maurice mes plus sincères salutations. joignable sur Firma ABC Kundendienst Hauptstr. 5 01234 Musterstadt\")\n",
    "for token in s:\n",
    "    print(token.text, token.pos_, token.dep_)"
   ]
  },
  {
   "cell_type": "code",
   "execution_count": 3,
   "metadata": {},
   "outputs": [
    {
     "name": "stdout",
     "output_type": "stream",
     "text": [
      "[('Bonjour Amine Hosni', 'PER'),\n",
      " ('Veuillez', 'PER'),\n",
      " ('Monsieur', 'PER'),\n",
      " ('Madame', 'PER'),\n",
      " ('Sebastien Maurice', 'PER'),\n",
      " ('Firma ABC', 'MISC'),\n",
      " ('Kundendienst Hauptstr', 'PER'),\n",
      " ('Musterstadt', 'MISC')]\n"
     ]
    }
   ],
   "source": [
    "from pprint import pprint\n",
    "pprint([(X.text, X.label_) for X in s.ents])"
   ]
  },
  {
   "cell_type": "code",
   "execution_count": 4,
   "metadata": {},
   "outputs": [
    {
     "name": "stdout",
     "output_type": "stream",
     "text": [
      "[('Vous nous avez envoyé il y', 'MISC'),\n",
      " ('Vneuron', 'MISC'),\n",
      " ('Your', 'MISC'),\n",
      " ('Your', 'MISC'),\n",
      " ('DPAN9I36', 'LOC'),\n",
      " ('Vneuron', 'PER'),\n",
      " ('Votre', 'MISC'),\n",
      " ('Recrutement', 'PER'),\n",
      " ('Vneuron RH M', 'MISC'),\n",
      " ('T.', 'LOC')]\n"
     ]
    }
   ],
   "source": [
    "mail = nlp(\"Bonjour, Vous nous avez envoyé il y a quelque temps votre candidature pour un poste au sein de Vneuron. Vous avez été sélectionné(e) pour passer un certain nombre de tests en ligne. Le résultat de ces tests représente une première étape dans l’évaluation de votre candidature. Nous vous invitons à aller sur ce lien : https://www.proprofs.com/classroom/?ID=2291128 Et vous connecter avec les paramètres ci-dessous : Your username: amine.hosni@esprit.tn Your password: DPAN9I36 Si vous vous avez besoin d'aide ou si vous n'êtes plus interessé pas un poste chez Vneuron merci de nous envoyer les détails ou les raisons à cette adresse : wehire@vneuron.com Votre avis nous intéresse. Une fois que vous avez fini les tests en ligne, merci de consacrer 2 minutes pour répondre à un petit questionnaire et nous faire part de vos impressions casernant notre processus de Recrutement. https://goo.gl/forms/MNEAbGK3De2TDvE22 Vneuron RH M + 216 29 385 292 T. +216 71 940 459 www.vneuron.com\")\n",
    "pprint([(X.text, X.label_) for X in mail.ents])"
   ]
  },
  {
   "cell_type": "code",
   "execution_count": 6,
   "metadata": {},
   "outputs": [
    {
     "name": "stdout",
     "output_type": "stream",
     "text": [
      "[(Bonjour, 'O', ''),\n",
      " (,, 'O', ''),\n",
      " (Vous, 'B', 'MISC'),\n",
      " (nous, 'I', 'MISC'),\n",
      " (avez, 'I', 'MISC'),\n",
      " (envoyé, 'I', 'MISC'),\n",
      " (il, 'I', 'MISC'),\n",
      " (y, 'I', 'MISC'),\n",
      " (a, 'O', ''),\n",
      " (quelque, 'O', ''),\n",
      " (temps, 'O', ''),\n",
      " (votre, 'O', ''),\n",
      " (candidature, 'O', ''),\n",
      " (pour, 'O', ''),\n",
      " (un, 'O', ''),\n",
      " (poste, 'O', ''),\n",
      " (au, 'O', ''),\n",
      " (sein, 'O', ''),\n",
      " (de, 'O', ''),\n",
      " (Vneuron, 'B', 'MISC'),\n",
      " (., 'O', ''),\n",
      " (Vous, 'O', ''),\n",
      " (avez, 'O', ''),\n",
      " (été, 'O', ''),\n",
      " (sélectionné(e, 'O', ''),\n",
      " (), 'O', ''),\n",
      " (pour, 'O', ''),\n",
      " (passer, 'O', ''),\n",
      " (un, 'O', ''),\n",
      " (certain, 'O', ''),\n",
      " (nombre, 'O', ''),\n",
      " (de, 'O', ''),\n",
      " (tests, 'O', ''),\n",
      " (en, 'O', ''),\n",
      " (ligne, 'O', ''),\n",
      " (., 'O', ''),\n",
      " (Le, 'O', ''),\n",
      " (résultat, 'O', ''),\n",
      " (de, 'O', ''),\n",
      " (ces, 'O', ''),\n",
      " (tests, 'O', ''),\n",
      " (représente, 'O', ''),\n",
      " (une, 'O', ''),\n",
      " (première, 'O', ''),\n",
      " (étape, 'O', ''),\n",
      " (dans, 'O', ''),\n",
      " (l’, 'O', ''),\n",
      " (évaluation, 'O', ''),\n",
      " (de, 'O', ''),\n",
      " (votre, 'O', ''),\n",
      " (candidature, 'O', ''),\n",
      " (., 'O', ''),\n",
      " (Nous, 'O', ''),\n",
      " (vous, 'O', ''),\n",
      " (invitons, 'O', ''),\n",
      " (à, 'O', ''),\n",
      " (aller, 'O', ''),\n",
      " (sur, 'O', ''),\n",
      " (ce, 'O', ''),\n",
      " (lien, 'O', ''),\n",
      " (:, 'O', ''),\n",
      " (https://www.proprofs.com/classroom/?ID=2291128, 'O', ''),\n",
      " (Et, 'O', ''),\n",
      " (vous, 'O', ''),\n",
      " (connecter, 'O', ''),\n",
      " (avec, 'O', ''),\n",
      " (les, 'O', ''),\n",
      " (paramètres, 'O', ''),\n",
      " (ci-dessous, 'O', ''),\n",
      " (:, 'O', ''),\n",
      " (Your, 'B', 'MISC'),\n",
      " (username, 'O', ''),\n",
      " (:, 'O', ''),\n",
      " (amine.hosni@esprit.tn, 'O', ''),\n",
      " (Your, 'B', 'MISC'),\n",
      " (password, 'O', ''),\n",
      " (:, 'O', ''),\n",
      " (DPAN9I36, 'B', 'LOC'),\n",
      " (Si, 'O', ''),\n",
      " (vous, 'O', ''),\n",
      " (vous, 'O', ''),\n",
      " (avez, 'O', ''),\n",
      " (besoin, 'O', ''),\n",
      " (d', 'O', ''),\n",
      " (aide, 'O', ''),\n",
      " (ou, 'O', ''),\n",
      " (si, 'O', ''),\n",
      " (vous, 'O', ''),\n",
      " (n', 'O', ''),\n",
      " (êtes, 'O', ''),\n",
      " (plus, 'O', ''),\n",
      " (interessé, 'O', ''),\n",
      " (pas, 'O', ''),\n",
      " (un, 'O', ''),\n",
      " (poste, 'O', ''),\n",
      " (chez, 'O', ''),\n",
      " (Vneuron, 'B', 'PER'),\n",
      " (merci, 'O', ''),\n",
      " (de, 'O', ''),\n",
      " (nous, 'O', ''),\n",
      " (envoyer, 'O', ''),\n",
      " (les, 'O', ''),\n",
      " (détails, 'O', ''),\n",
      " (ou, 'O', ''),\n",
      " (les, 'O', ''),\n",
      " (raisons, 'O', ''),\n",
      " (à, 'O', ''),\n",
      " (cette, 'O', ''),\n",
      " (adresse, 'O', ''),\n",
      " (:, 'O', ''),\n",
      " (wehire@vneuron.com, 'O', ''),\n",
      " (Votre, 'B', 'MISC'),\n",
      " (avis, 'O', ''),\n",
      " (nous, 'O', ''),\n",
      " (intéresse, 'O', ''),\n",
      " (., 'O', ''),\n",
      " (Une, 'O', ''),\n",
      " (fois, 'O', ''),\n",
      " (que, 'O', ''),\n",
      " (vous, 'O', ''),\n",
      " (avez, 'O', ''),\n",
      " (fini, 'O', ''),\n",
      " (les, 'O', ''),\n",
      " (tests, 'O', ''),\n",
      " (en, 'O', ''),\n",
      " (ligne, 'O', ''),\n",
      " (,, 'O', ''),\n",
      " (merci, 'O', ''),\n",
      " (de, 'O', ''),\n",
      " (consacrer, 'O', ''),\n",
      " (2, 'O', ''),\n",
      " (minutes, 'O', ''),\n",
      " (pour, 'O', ''),\n",
      " (répondre, 'O', ''),\n",
      " (à, 'O', ''),\n",
      " (un, 'O', ''),\n",
      " (petit, 'O', ''),\n",
      " (questionnaire, 'O', ''),\n",
      " (et, 'O', ''),\n",
      " (nous, 'O', ''),\n",
      " (faire, 'O', ''),\n",
      " (part, 'O', ''),\n",
      " (de, 'O', ''),\n",
      " (vos, 'O', ''),\n",
      " (impressions, 'O', ''),\n",
      " (casernant, 'O', ''),\n",
      " (notre, 'O', ''),\n",
      " (processus, 'O', ''),\n",
      " (de, 'O', ''),\n",
      " (Recrutement, 'B', 'PER'),\n",
      " (., 'O', ''),\n",
      " (https://goo.gl/forms/MNEAbGK3De2TDvE22, 'O', ''),\n",
      " (Vneuron, 'B', 'MISC'),\n",
      " (RH, 'I', 'MISC'),\n",
      " (M, 'I', 'MISC'),\n",
      " (+, 'O', ''),\n",
      " (216, 'O', ''),\n",
      " (29, 'O', ''),\n",
      " (385, 'O', ''),\n",
      " (292, 'O', ''),\n",
      " (T., 'B', 'LOC'),\n",
      " (+216, 'O', ''),\n",
      " (71, 'O', ''),\n",
      " (940, 'O', ''),\n",
      " (459, 'O', ''),\n",
      " (www.vneuron.com, 'O', '')]\n"
     ]
    }
   ],
   "source": [
    "pprint([(X, X.ent_iob_, X.ent_type_) for X in mail])"
   ]
  },
  {
   "cell_type": "code",
   "execution_count": 5,
   "metadata": {},
   "outputs": [
    {
     "name": "stdout",
     "output_type": "stream",
     "text": [
      "[('Dear Amine', 'ORG'), ('next week', 'DATE'), ('Julie Gramer', 'PERSON')]\n"
     ]
    }
   ],
   "source": [
    "nlp_eng = spacy.load('en_core_web_sm')\n",
    "mail_en = nlp_eng(\"Dear Amine, Thanks for applying for the 'Data Scientist - Stage' position! Your application caught our attention. Would you be available for a phone interview next week? Looking forward to speaking with you. All best, Julie Gramer\")\n",
    "pprint([(X.text, X.label_) for X in mail_en.ents])"
   ]
  },
  {
   "cell_type": "code",
   "execution_count": 7,
   "metadata": {},
   "outputs": [
    {
     "name": "stdout",
     "output_type": "stream",
     "text": [
      "[(Dear, 'B', 'ORG'),\n",
      " (Amine, 'I', 'ORG'),\n",
      " (,, 'O', ''),\n",
      " (Thanks, 'O', ''),\n",
      " (for, 'O', ''),\n",
      " (applying, 'O', ''),\n",
      " (for, 'O', ''),\n",
      " (the, 'O', ''),\n",
      " (', 'O', ''),\n",
      " (Data, 'O', ''),\n",
      " (Scientist, 'O', ''),\n",
      " (-, 'O', ''),\n",
      " (Stage, 'O', ''),\n",
      " (', 'O', ''),\n",
      " (position, 'O', ''),\n",
      " (!, 'O', ''),\n",
      " (Your, 'O', ''),\n",
      " (application, 'O', ''),\n",
      " (caught, 'O', ''),\n",
      " (our, 'O', ''),\n",
      " (attention, 'O', ''),\n",
      " (., 'O', ''),\n",
      " (Would, 'O', ''),\n",
      " (you, 'O', ''),\n",
      " (be, 'O', ''),\n",
      " (available, 'O', ''),\n",
      " (for, 'O', ''),\n",
      " (a, 'O', ''),\n",
      " (phone, 'O', ''),\n",
      " (interview, 'O', ''),\n",
      " (next, 'B', 'DATE'),\n",
      " (week, 'I', 'DATE'),\n",
      " (?, 'O', ''),\n",
      " (Looking, 'O', ''),\n",
      " (forward, 'O', ''),\n",
      " (to, 'O', ''),\n",
      " (speaking, 'O', ''),\n",
      " (with, 'O', ''),\n",
      " (you, 'O', ''),\n",
      " (., 'O', ''),\n",
      " (All, 'O', ''),\n",
      " (best, 'O', ''),\n",
      " (,, 'O', ''),\n",
      " (Julie, 'B', 'PERSON'),\n",
      " (Gramer, 'I', 'PERSON')]\n"
     ]
    }
   ],
   "source": [
    "pprint([(X, X.ent_iob_, X.ent_type_) for X in mail_en])"
   ]
  },
  {
   "cell_type": "code",
   "execution_count": 1,
   "metadata": {},
   "outputs": [
    {
     "data": {
      "text/plain": [
       "4"
      ]
     },
     "execution_count": 1,
     "metadata": {},
     "output_type": "execute_result"
    }
   ],
   "source": [
    "import threading\n",
    "threading.activeCount()"
   ]
  }
 ],
 "metadata": {
  "kernelspec": {
   "display_name": "Python 3",
   "language": "python",
   "name": "python3"
  },
  "language_info": {
   "codemirror_mode": {
    "name": "ipython",
    "version": 3
   },
   "file_extension": ".py",
   "mimetype": "text/x-python",
   "name": "python",
   "nbconvert_exporter": "python",
   "pygments_lexer": "ipython3",
   "version": "3.7.0"
  }
 },
 "nbformat": 4,
 "nbformat_minor": 2
}
